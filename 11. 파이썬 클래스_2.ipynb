{
 "cells": [
  {
   "cell_type": "markdown",
   "metadata": {},
   "source": [
    "### 271 Account 클래스\n",
    "##### 은행에 가서 계좌를 개설하면 은행이름, 예금주, 계좌번호, 잔액이 설정됩니다. Account 클래스를 생성한 후 생성자를 구현해보세요.\n",
    "##### 생성자에서는 예금주와 초기 잔액만 입력 받습니다. 은행이름은 SC은행으로 계좌번호는 3자리-2자리-6자리 형태로 랜덤하게 생성됩니다.\n",
    "\n",
    "은행이름: SC은행\n",
    "\n",
    "계좌번호: 111-11-111111"
   ]
  },
  {
   "cell_type": "code",
   "execution_count": 16,
   "metadata": {},
   "outputs": [
    {
     "name": "stdout",
     "output_type": "stream",
     "text": [
      "장석건 10000 SC은행 856-51-899995\n"
     ]
    }
   ],
   "source": [
    "import random\n",
    "random.seed(2021)\n",
    "\n",
    "class Account:\n",
    "    def __init__(self, 예금주, 초기잔액):\n",
    "        self.예금주 = 예금주\n",
    "        self.초기잔액 = 초기잔액\n",
    "        self.은행이름 = 'SC은행'\n",
    "        num1 = random.randint(0,999)\n",
    "        num2 = random.randint(0,99)\n",
    "        num3 = random.randint(0,999999)\n",
    "        \n",
    "        num1 = str(num1).zfill(3)\n",
    "        num2 = str(num2).zfill(2)\n",
    "        num3 = str(num3).zfill(6)\n",
    "        \n",
    "        self.계좌번호 = str(num1) + '-' + str(num2) + '-' + str(num3)\n",
    "\n",
    "ac = Account('장석건',10000)\n",
    "print(ac.예금주, ac.초기잔액, ac.은행이름, ac.계좌번호)"
   ]
  },
  {
   "cell_type": "markdown",
   "metadata": {},
   "source": [
    "### 272 클래스 변수\n",
    "##### 클래스 변수를 사용해서 Account 클래스로부터 생성된 계좌 객체의 개수를 저장하세요."
   ]
  },
  {
   "cell_type": "code",
   "execution_count": 21,
   "metadata": {},
   "outputs": [
    {
     "data": {
      "text/plain": [
       "2"
      ]
     },
     "execution_count": 21,
     "metadata": {},
     "output_type": "execute_result"
    }
   ],
   "source": [
    "class Account:\n",
    "    account_num = 0\n",
    "    def __init__(self, 예금주, 초기잔액):\n",
    "        self.예금주 = 예금주\n",
    "        self.초기잔액 = 초기잔액\n",
    "        self.은행이름 = 'SC은행'\n",
    "        num1 = random.randint(0,999)\n",
    "        num2 = random.randint(0,99)\n",
    "        num3 = random.randint(0,999999)\n",
    "        \n",
    "        num1 = str(num1).zfill(3)\n",
    "        num2 = str(num2).zfill(2)\n",
    "        num3 = str(num3).zfill(6)\n",
    "        \n",
    "        self.계좌번호 = str(num1) + '-' + str(num2) + '-' + str(num3)\n",
    "        \n",
    "        Account.account_num += 1\n",
    "\n",
    "ac1 = Account('장석건',10000)\n",
    "ac2 = Account('차현우',20000)\n",
    "\n",
    "Account.account_num"
   ]
  },
  {
   "cell_type": "markdown",
   "metadata": {},
   "source": [
    "### 273 클래스 변수 출력\n",
    "##### Account 클래스로부터 생성된 계좌의 개수를 출력하는 get_account_num() 메서드를 추가하세요."
   ]
  },
  {
   "cell_type": "code",
   "execution_count": 28,
   "metadata": {},
   "outputs": [
    {
     "name": "stdout",
     "output_type": "stream",
     "text": [
      "2\n"
     ]
    }
   ],
   "source": [
    "class Account:\n",
    "    account_num = 0\n",
    "    def __init__(self, 예금주, 초기잔액):\n",
    "        self.예금주 = 예금주\n",
    "        self.초기잔액 = 초기잔액\n",
    "        self.은행이름 = 'SC은행'\n",
    "        num1 = random.randint(0,999)\n",
    "        num2 = random.randint(0,99)\n",
    "        num3 = random.randint(0,999999)\n",
    "        \n",
    "        num1 = str(num1).zfill(3)\n",
    "        num2 = str(num2).zfill(2)\n",
    "        num3 = str(num3).zfill(6)\n",
    "        \n",
    "        self.계좌번호 = str(num1) + '-' + str(num2) + '-' + str(num3)\n",
    "        \n",
    "        Account.account_num += 1\n",
    "    \n",
    "    def get_account_num(cls):\n",
    "        print(cls.account_num)\n",
    "        \n",
    "ac1 = Account('장석건',10000)\n",
    "ac2 = Account('차현우',20000)        \n",
    "ac1.get_account_num()"
   ]
  },
  {
   "cell_type": "markdown",
   "metadata": {},
   "source": [
    "### 274 입금 메서드\n",
    "##### Account 클래스에 입금을 위한 deposit 메서드를 추가하세요. 입금은 최소 1원 이상만 가능합니다."
   ]
  },
  {
   "cell_type": "code",
   "execution_count": 30,
   "metadata": {},
   "outputs": [
    {
     "data": {
      "text/plain": [
       "11000"
      ]
     },
     "execution_count": 30,
     "metadata": {},
     "output_type": "execute_result"
    }
   ],
   "source": [
    "class Account:\n",
    "    account_num = 0\n",
    "    def __init__(self, 예금주, 초기잔액):\n",
    "        self.예금주 = 예금주\n",
    "        self.잔액 = 초기잔액\n",
    "        self.은행이름 = 'SC은행'\n",
    "        num1 = random.randint(0,999)\n",
    "        num2 = random.randint(0,99)\n",
    "        num3 = random.randint(0,999999)\n",
    "        \n",
    "        num1 = str(num1).zfill(3)\n",
    "        num2 = str(num2).zfill(2)\n",
    "        num3 = str(num3).zfill(6)\n",
    "        \n",
    "        self.계좌번호 = str(num1) + '-' + str(num2) + '-' + str(num3)\n",
    "        \n",
    "        Account.account_num += 1\n",
    "    \n",
    "    def get_account_num(cls):\n",
    "        print(cls.account_num)\n",
    "        \n",
    "    def deposit(self, 입금):\n",
    "        if 입금 >= 1:\n",
    "            self.잔액 += 입금\n",
    "        \n",
    "ac1 = Account('장석건',10000)\n",
    "ac2 = Account('차현우',20000)\n",
    "\n",
    "ac1.deposit(1000)\n",
    "ac1.잔액"
   ]
  },
  {
   "cell_type": "markdown",
   "metadata": {},
   "source": [
    "### 275 출금 메서드\n",
    "##### Account 클래스에 출금을 위한 withdraw 메서드를 추가하세요. 출금은 계좌의 잔고 이상으로 출금할 수는 없습니다."
   ]
  },
  {
   "cell_type": "code",
   "execution_count": 32,
   "metadata": {},
   "outputs": [
    {
     "data": {
      "text/plain": [
       "7000"
      ]
     },
     "execution_count": 32,
     "metadata": {},
     "output_type": "execute_result"
    }
   ],
   "source": [
    "class Account:\n",
    "    account_num = 0\n",
    "    def __init__(self, 예금주, 초기잔액):\n",
    "        self.예금주 = 예금주\n",
    "        self.잔액 = 초기잔액\n",
    "        self.은행이름 = 'SC은행'\n",
    "        num1 = random.randint(0,999)\n",
    "        num2 = random.randint(0,99)\n",
    "        num3 = random.randint(0,999999)\n",
    "        \n",
    "        num1 = str(num1).zfill(3)\n",
    "        num2 = str(num2).zfill(2)\n",
    "        num3 = str(num3).zfill(6)\n",
    "        \n",
    "        self.계좌번호 = str(num1) + '-' + str(num2) + '-' + str(num3)\n",
    "        \n",
    "        Account.account_num += 1\n",
    "    \n",
    "    def get_account_num(cls):\n",
    "        print(cls.account_num)\n",
    "        \n",
    "    def deposit(self, 입금):\n",
    "        if 입금 >= 1:\n",
    "            self.잔액 += 입금\n",
    "    \n",
    "    def withdraw(self, 출금):\n",
    "        if 출금 <= self.잔액:\n",
    "            self.잔액 -= 출금\n",
    "\n",
    "ac1 = Account('장석건',10000)\n",
    "ac1.withdraw(3000)\n",
    "ac1.잔액"
   ]
  },
  {
   "cell_type": "markdown",
   "metadata": {},
   "source": [
    "### 276 정보 출력 메서드\n",
    "##### Account 인스턴스에 저장된 정보를 출력하는 display_info() 메서드를 추가하세요. 잔고는 세자리마다 쉼표를 출력하세요."
   ]
  },
  {
   "cell_type": "code",
   "execution_count": 54,
   "metadata": {},
   "outputs": [
    {
     "name": "stdout",
     "output_type": "stream",
     "text": [
      "예금주:  장석건\n",
      "계좌번호:  053-34-091421\n",
      "은행:  SC은행\n",
      "잔액:  1,000,000\n"
     ]
    }
   ],
   "source": [
    "random.seed(123)\n",
    "class Account:\n",
    "    account_num = 0\n",
    "    def __init__(self, 예금주, 초기잔액):\n",
    "        self.예금주 = 예금주\n",
    "        self.잔액 = 초기잔액\n",
    "        self.은행이름 = 'SC은행'\n",
    "        num1 = random.randint(0,999)\n",
    "        num2 = random.randint(0,99)\n",
    "        num3 = random.randint(0,999999)\n",
    "        \n",
    "        num1 = str(num1).zfill(3)\n",
    "        num2 = str(num2).zfill(2)\n",
    "        num3 = str(num3).zfill(6)\n",
    "        \n",
    "        self.계좌번호 = str(num1) + '-' + str(num2) + '-' + str(num3)\n",
    "        \n",
    "        Account.account_num += 1\n",
    "    \n",
    "    def get_account_num(cls):\n",
    "        print(cls.account_num)\n",
    "        \n",
    "    def deposit(self, 입금):\n",
    "        if 입금 >= 1:\n",
    "            self.잔액 += 입금\n",
    "    \n",
    "    def withdraw(self, 출금):\n",
    "        if 출금 <= self.잔액:\n",
    "            self.잔액 -= 출금\n",
    "            \n",
    "    def display_info(self):\n",
    "        self.잔액 = str(self.잔액)\n",
    "        lst = []\n",
    "        k = 0\n",
    "        for i in range(len(self.잔액)):\n",
    "            lst.append(self.잔액[i])\n",
    "            \n",
    "        for i in range(len(self.잔액)):\n",
    "            if i == 0:\n",
    "                continue\n",
    "            elif i % 3 == 0:\n",
    "                lst.insert(-(i+k),',')\n",
    "                k += 1\n",
    "            self.잔액 = ''.join(lst)\n",
    "            \n",
    "        print('예금주: ',self.예금주)\n",
    "        print('계좌번호: ',self.계좌번호)\n",
    "        print('은행: ',self.은행이름)\n",
    "        print('잔액: ',self.잔액)\n",
    "        \n",
    "ac1 = Account('장석건',1000000)\n",
    "ac1.display_info()\n"
   ]
  },
  {
   "cell_type": "markdown",
   "metadata": {},
   "source": [
    "### 277 이자 지급하기\n",
    "##### 입금 횟수가 5회가 될 때 잔고를 기준으로 1%의 이자가 잔고에 추가되도록 코드를 변경해보세요."
   ]
  },
  {
   "cell_type": "code",
   "execution_count": 63,
   "metadata": {},
   "outputs": [
    {
     "name": "stdout",
     "output_type": "stream",
     "text": [
      "잔액: 66000 원\n"
     ]
    }
   ],
   "source": [
    "random.seed(123)\n",
    "class Account:\n",
    "    account_num = 0\n",
    "    \n",
    "    def __init__(self, 예금주, 초기잔액):\n",
    "        self.예금주 = 예금주\n",
    "        self.잔액 = 초기잔액\n",
    "        self.은행이름 = 'SC은행'\n",
    "        self.deposit_num = 0\n",
    "        num1 = random.randint(0,999)\n",
    "        num2 = random.randint(0,99)\n",
    "        num3 = random.randint(0,999999)\n",
    "        \n",
    "        num1 = str(num1).zfill(3)\n",
    "        num2 = str(num2).zfill(2)\n",
    "        num3 = str(num3).zfill(6)\n",
    "        \n",
    "        self.계좌번호 = str(num1) + '-' + str(num2) + '-' + str(num3)\n",
    "        \n",
    "        Account.account_num += 1\n",
    "    \n",
    "    def get_account_num(cls):\n",
    "        print(cls.account_num)\n",
    "        \n",
    "    def deposit(self, 입금):\n",
    "        if 입금 >= 1:\n",
    "            self.잔액 += 입금\n",
    "       \n",
    "        self.deposit_num += 1\n",
    "        \n",
    "        if self.deposit_num == 5:\n",
    "            self.잔액 += self.잔액 * 0.1\n",
    "        \n",
    "    def withdraw(self, 출금):\n",
    "        if 출금 <= self.잔액:\n",
    "            self.잔액 -= 출금\n",
    "            \n",
    "    def display_info(self):\n",
    "        self.잔액 = str(self.잔액)\n",
    "        lst = []\n",
    "        k = 0\n",
    "        for i in range(len(self.잔액)):\n",
    "            lst.append(self.잔액[i])\n",
    "            \n",
    "        for i in range(len(self.잔액)):\n",
    "            if i == 0:\n",
    "                continue\n",
    "            elif i % 3 == 0:\n",
    "                lst.insert(-(i+k),',')\n",
    "                k += 1\n",
    "            self.잔액 = ''.join(lst)\n",
    "            \n",
    "        print('예금주: ',self.예금주)\n",
    "        print('계좌번호: ',self.계좌번호)\n",
    "        print('은행: ',self.은행이름)\n",
    "        print('잔액: ',self.잔액)\n",
    "        \n",
    "ac1 = Account('장석건', 10000)\n",
    "ac1.deposit(10000)\n",
    "ac1.deposit(10000)\n",
    "ac1.deposit(10000)\n",
    "ac1.deposit(10000)\n",
    "ac1.deposit(10000)\n",
    "print('잔액:', int(ac1.잔액), '원')"
   ]
  },
  {
   "cell_type": "markdown",
   "metadata": {},
   "source": [
    "### 278 여러 객체 생성\n",
    "##### Account 클래스로부터 3개 이상 인스턴스를 생성하고 생성된 인스턴스를 리스트에 저장해보세요."
   ]
  },
  {
   "cell_type": "code",
   "execution_count": 68,
   "metadata": {},
   "outputs": [
    {
     "data": {
      "text/plain": [
       "[<__main__.Account at 0x287e3503b50>,\n",
       " <__main__.Account at 0x287e35039d0>,\n",
       " <__main__.Account at 0x287e3093bb0>]"
      ]
     },
     "execution_count": 68,
     "metadata": {},
     "output_type": "execute_result"
    }
   ],
   "source": [
    "random.seed(123)\n",
    "class Account:\n",
    "    account_num = 0\n",
    "    \n",
    "    def __init__(self, 예금주, 초기잔액):\n",
    "        self.예금주 = 예금주\n",
    "        self.잔액 = 초기잔액\n",
    "        self.은행이름 = 'SC은행'\n",
    "        self.deposit_num = 0\n",
    "        num1 = random.randint(0,999)\n",
    "        num2 = random.randint(0,99)\n",
    "        num3 = random.randint(0,999999)\n",
    "        \n",
    "        num1 = str(num1).zfill(3)\n",
    "        num2 = str(num2).zfill(2)\n",
    "        num3 = str(num3).zfill(6)\n",
    "        \n",
    "        self.계좌번호 = str(num1) + '-' + str(num2) + '-' + str(num3)\n",
    "        \n",
    "        Account.account_num += 1\n",
    "    \n",
    "    def get_account_num(cls):\n",
    "        print(cls.account_num)\n",
    "        \n",
    "    def deposit(self, 입금):\n",
    "        if 입금 >= 1:\n",
    "            self.잔액 += 입금\n",
    "       \n",
    "        self.deposit_num += 1\n",
    "        \n",
    "        if self.deposit_num == 5:\n",
    "            self.잔액 += self.잔액 * 0.1\n",
    "        \n",
    "    def withdraw(self, 출금):\n",
    "        if 출금 <= self.잔액:\n",
    "            self.잔액 -= 출금\n",
    "            \n",
    "    def display_info(self):\n",
    "        self.잔액 = str(self.잔액)\n",
    "        lst = []\n",
    "        k = 0\n",
    "        for i in range(len(self.잔액)):\n",
    "            lst.append(self.잔액[i])\n",
    "            \n",
    "        for i in range(len(self.잔액)):\n",
    "            if i == 0:\n",
    "                continue\n",
    "            elif i % 3 == 0:\n",
    "                lst.insert(-(i+k),',')\n",
    "                k += 1\n",
    "            self.잔액 = ''.join(lst)\n",
    "            \n",
    "        print('예금주: ',self.예금주)\n",
    "        print('계좌번호: ',self.계좌번호)\n",
    "        print('은행: ',self.은행이름)\n",
    "        print('잔액: ',self.잔액)\n",
    "        \n",
    "ac1 = Account('장석건', 10000)\n",
    "ac2 = Account('차현우', 20000)\n",
    "ac3 = Account('배경득', 30000)\n",
    "\n",
    "lst1 = [ac1, ac2, ac3]\n",
    "lst1"
   ]
  },
  {
   "cell_type": "markdown",
   "metadata": {},
   "source": [
    "### 279 객체 순회\n",
    "##### 반복문을 통해 리스트에 있는 객체를 순회하면서 잔고가 100만원 이상인 고객의 정보만 출력하세요."
   ]
  },
  {
   "cell_type": "code",
   "execution_count": 70,
   "metadata": {},
   "outputs": [
    {
     "name": "stdout",
     "output_type": "stream",
     "text": [
      "예금주:  장석건\n",
      "계좌번호:  053-34-091421\n",
      "은행:  SC은행\n",
      "잔액:  1,000,000\n",
      "-----\n",
      "예금주:  차현우\n",
      "계좌번호:  787-52-279501\n",
      "은행:  SC은행\n",
      "잔액:  2,000,000\n",
      "-----\n"
     ]
    }
   ],
   "source": [
    "random.seed(123)\n",
    "class Account:\n",
    "    account_num = 0\n",
    "    \n",
    "    def __init__(self, 예금주, 초기잔액):\n",
    "        self.예금주 = 예금주\n",
    "        self.잔액 = 초기잔액\n",
    "        self.은행이름 = 'SC은행'\n",
    "        self.deposit_num = 0\n",
    "        num1 = random.randint(0,999)\n",
    "        num2 = random.randint(0,99)\n",
    "        num3 = random.randint(0,999999)\n",
    "        \n",
    "        num1 = str(num1).zfill(3)\n",
    "        num2 = str(num2).zfill(2)\n",
    "        num3 = str(num3).zfill(6)\n",
    "        \n",
    "        self.계좌번호 = str(num1) + '-' + str(num2) + '-' + str(num3)\n",
    "        \n",
    "        Account.account_num += 1\n",
    "    \n",
    "    def get_account_num(cls):\n",
    "        print(cls.account_num)\n",
    "        \n",
    "    def deposit(self, 입금):\n",
    "        if 입금 >= 1:\n",
    "            self.잔액 += 입금\n",
    "       \n",
    "        self.deposit_num += 1\n",
    "        \n",
    "        if self.deposit_num == 5:\n",
    "            self.잔액 += self.잔액 * 0.1\n",
    "        \n",
    "    def withdraw(self, 출금):\n",
    "        if 출금 <= self.잔액:\n",
    "            self.잔액 -= 출금\n",
    "            \n",
    "    def display_info(self):\n",
    "        self.잔액 = str(self.잔액)\n",
    "        lst = []\n",
    "        k = 0\n",
    "        for i in range(len(self.잔액)):\n",
    "            lst.append(self.잔액[i])\n",
    "            \n",
    "        for i in range(len(self.잔액)):\n",
    "            if i == 0:\n",
    "                continue\n",
    "            elif i % 3 == 0:\n",
    "                lst.insert(-(i+k),',')\n",
    "                k += 1\n",
    "            self.잔액 = ''.join(lst)\n",
    "            \n",
    "        print('예금주: ',self.예금주)\n",
    "        print('계좌번호: ',self.계좌번호)\n",
    "        print('은행: ',self.은행이름)\n",
    "        print('잔액: ',self.잔액)\n",
    "        print('-----')\n",
    "        \n",
    "ac1 = Account('장석건', 1000000)\n",
    "ac2 = Account('차현우', 2000000)\n",
    "ac3 = Account('배경득', 300000)\n",
    "\n",
    "lst1 = [ac1, ac2, ac3]\n",
    "\n",
    "for i in lst1:\n",
    "    if i.잔액 >= 1000000:\n",
    "        i.display_info() "
   ]
  },
  {
   "cell_type": "markdown",
   "metadata": {},
   "source": [
    "### 280 입출금 내역\n",
    "##### 입금과 출금 내역이 기록되도록 코드를 업데이트 하세요.\n",
    "##### 입금 내역과 출금 내역을 출력하는 deposit_history와 withdraw_history 메서드를 추가하세요."
   ]
  },
  {
   "cell_type": "code",
   "execution_count": 77,
   "metadata": {},
   "outputs": [
    {
     "name": "stdout",
     "output_type": "stream",
     "text": [
      "10000\n",
      "20000\n",
      "30000\n",
      "40000\n"
     ]
    }
   ],
   "source": [
    "random.seed(123)\n",
    "class Account:\n",
    "    account_num = 0\n",
    "    \n",
    "    def __init__(self, 예금주, 초기잔액):\n",
    "        self.예금주 = 예금주\n",
    "        self.잔액 = 초기잔액\n",
    "        self.은행이름 = 'SC은행'\n",
    "        self.deposit_num = 0\n",
    "        self.deposit_hist = []\n",
    "        self.withdraw_hist = []\n",
    "        \n",
    "        num1 = random.randint(0,999)\n",
    "        num2 = random.randint(0,99)\n",
    "        num3 = random.randint(0,999999)\n",
    "        \n",
    "        num1 = str(num1).zfill(3)\n",
    "        num2 = str(num2).zfill(2)\n",
    "        num3 = str(num3).zfill(6)\n",
    "        \n",
    "        self.계좌번호 = str(num1) + '-' + str(num2) + '-' + str(num3)\n",
    "        \n",
    "        Account.account_num += 1\n",
    "    \n",
    "    def get_account_num(cls):\n",
    "        print(cls.account_num)\n",
    "        \n",
    "    def deposit(self, 입금):\n",
    "        \n",
    "        self.deposit_hist.append(입금)\n",
    "        \n",
    "        if 입금 >= 1:\n",
    "            self.잔액 += 입금\n",
    "       \n",
    "        self.deposit_num += 1\n",
    "        \n",
    "        if self.deposit_num == 5:\n",
    "            self.잔액 += self.잔액 * 0.1\n",
    "        \n",
    "    def withdraw(self, 출금):\n",
    "        \n",
    "        self.withdraw_hist.append(출금)\n",
    "        \n",
    "        if 출금 <= self.잔액:\n",
    "            self.잔액 -= 출금\n",
    "        \n",
    "    def display_info(self):\n",
    "        self.잔액 = str(self.잔액)\n",
    "        lst = []\n",
    "        k = 0\n",
    "        \n",
    "        for i in range(len(self.잔액)):\n",
    "            lst.append(self.잔액[i])\n",
    "            \n",
    "        for i in range(len(self.잔액)):\n",
    "            if i == 0:\n",
    "                continue\n",
    "            elif i % 3 == 0:\n",
    "                lst.insert(-(i+k),',')\n",
    "                k += 1\n",
    "            self.잔액 = ''.join(lst)\n",
    "            \n",
    "        print('예금주: ',self.예금주)\n",
    "        print('계좌번호: ',self.계좌번호)\n",
    "        print('은행: ',self.은행이름)\n",
    "        print('잔액: ',self.잔액)\n",
    "        print('-----')\n",
    "    \n",
    "    def deposit_history(self):\n",
    "        for i in range(len(self.deposit_hist)):\n",
    "            print(self.deposit_hist[i])\n",
    "    \n",
    "    def withdraw_history(self):\n",
    "        for i in self.withdraw_hist:\n",
    "            print(i)\n",
    "\n",
    "ac1 = Account('장석건', 10000)\n",
    "ac1.deposit(10000)\n",
    "ac1.deposit(20000)\n",
    "ac1.deposit(30000)\n",
    "ac1.deposit(40000)\n",
    "\n",
    "ac1.deposit_history()"
   ]
  },
  {
   "cell_type": "markdown",
   "metadata": {},
   "source": [
    "### 281 클래스 정의\n",
    "##### 다음 코드가 동작하도록 차 클래스를 정의하세요.\n",
    "\n",
    "car = 차(2, 1000)\n",
    "\n",
    "car.바퀴\n",
    "\n",
    "2\n",
    "\n",
    "car.가격\n",
    "\n",
    "1000"
   ]
  },
  {
   "cell_type": "code",
   "execution_count": 79,
   "metadata": {},
   "outputs": [
    {
     "name": "stdout",
     "output_type": "stream",
     "text": [
      "2 1000\n"
     ]
    }
   ],
   "source": [
    "class 차:\n",
    "    def __init__(self, 바퀴, 가격):\n",
    "        self.바퀴 = 바퀴\n",
    "        self.가격 = 가격\n",
    "\n",
    "car = 차(2, 1000)\n",
    "print(car.바퀴, car.가격)"
   ]
  },
  {
   "cell_type": "markdown",
   "metadata": {},
   "source": [
    "### 282 클래스 상속\n",
    "##### 차 클래스를 상속받은 자전차 클래스를 정의하세요."
   ]
  },
  {
   "cell_type": "code",
   "execution_count": 80,
   "metadata": {},
   "outputs": [],
   "source": [
    "class 자전차(차):\n",
    "    pass"
   ]
  },
  {
   "cell_type": "markdown",
   "metadata": {},
   "source": [
    "### 283 클래스 상속\n",
    "##### 다음 코드가 동작하도록 자전차 클래스를 정의하세요. 단 자전차 클래스는 차 클래스를 상속받습니다."
   ]
  },
  {
   "cell_type": "code",
   "execution_count": 81,
   "metadata": {},
   "outputs": [
    {
     "data": {
      "text/plain": [
       "100"
      ]
     },
     "execution_count": 81,
     "metadata": {},
     "output_type": "execute_result"
    }
   ],
   "source": [
    "class 자전차(차):\n",
    "    pass\n",
    "bicycle = 자전차(2, 100)\n",
    "bicycle.가격"
   ]
  },
  {
   "cell_type": "markdown",
   "metadata": {},
   "source": [
    "### 284 클래스 상속\n",
    "##### 다음 코드가 동작하도록 자전차 클래스를 정의하세요. 단 자전차 클래스는 차 클래스를 상속받습니다."
   ]
  },
  {
   "cell_type": "code",
   "execution_count": 92,
   "metadata": {},
   "outputs": [
    {
     "data": {
      "text/plain": [
       "'시마노'"
      ]
     },
     "execution_count": 92,
     "metadata": {},
     "output_type": "execute_result"
    }
   ],
   "source": [
    "class 자전차(차):\n",
    "    def __init__(self, 바퀴, 가격, 구동계):\n",
    "        super().__init__\n",
    "        self.구동계 = 구동계\n",
    "        \n",
    "bicycle = 자전차(2, 100, \"시마노\")\n",
    "bicycle.구동계"
   ]
  },
  {
   "cell_type": "markdown",
   "metadata": {},
   "source": [
    "### 285 클래스 상속\n",
    "##### 다음 코드가 동작하도록 차 클래스를 상속받는 자동차 클래스를 정의하세요.\n",
    "\n",
    "car = 자동차(4, 1000)\n",
    "\n",
    "car.정보()\n",
    "\n",
    "바퀴수 4\n",
    "\n",
    "가격 1000"
   ]
  },
  {
   "cell_type": "code",
   "execution_count": 93,
   "metadata": {},
   "outputs": [
    {
     "name": "stdout",
     "output_type": "stream",
     "text": [
      "바퀴수 4\n",
      "가격 1000\n"
     ]
    }
   ],
   "source": [
    "class 자동차(차):\n",
    "    def __init__(self, 바퀴, 가격):\n",
    "        super().__init__(바퀴, 가격)\n",
    "    \n",
    "    def 정보(self):\n",
    "        print('바퀴수', self.바퀴)\n",
    "        print('가격', self.가격)\n",
    "\n",
    "car = 자동차(4, 1000)\n",
    "car.정보()"
   ]
  },
  {
   "cell_type": "markdown",
   "metadata": {},
   "source": [
    "### 286 부모 클래스 생성자 호출\n",
    "##### 다음 코드가 동작하도록 자전차 클래스를 수정하세요.\n",
    "\n",
    "bicycle = 자전차(2, 100, \"시마노\")\n",
    "\n",
    "bicycle.정보()\n",
    "\n",
    "바퀴수 2\n",
    "\n",
    "가격 100"
   ]
  },
  {
   "cell_type": "code",
   "execution_count": 97,
   "metadata": {},
   "outputs": [
    {
     "name": "stdout",
     "output_type": "stream",
     "text": [
      "바퀴 2\n",
      "가격 100\n"
     ]
    }
   ],
   "source": [
    "class 차:\n",
    "    def __init__(self, 바퀴, 가격):\n",
    "        self.바퀴 = 바퀴\n",
    "        self.가격 = 가격\n",
    "    \n",
    "    def 정보(self):\n",
    "        print('바퀴', self.바퀴)\n",
    "        print('가격', self.가격)\n",
    "        \n",
    "class 자전차(차):\n",
    "    def __init__(self, 바퀴, 가격, 구동계):\n",
    "        차.__init__(self, 바퀴, 가격)\n",
    "        self.구동계 = 구동계\n",
    "\n",
    "bicycle = 자전차(2, 100, \"시마노\")\n",
    "bicycle.정보()"
   ]
  },
  {
   "cell_type": "markdown",
   "metadata": {},
   "source": [
    "### 287 부모 클래스 메서드 호출\n",
    "##### 자전차의 정보() 메서드로 구동계 정보까지 출력하도록 수정해보세요."
   ]
  },
  {
   "cell_type": "code",
   "execution_count": 100,
   "metadata": {},
   "outputs": [
    {
     "name": "stdout",
     "output_type": "stream",
     "text": [
      "바퀴 2\n",
      "가격 100\n",
      "구동계 시마노\n"
     ]
    }
   ],
   "source": [
    "class 차:\n",
    "    def __init__(self, 바퀴, 가격):\n",
    "        self.바퀴 = 바퀴\n",
    "        self.가격 = 가격\n",
    "    \n",
    "    def 정보(self):\n",
    "        print('바퀴', self.바퀴)\n",
    "        print('가격', self.가격)\n",
    "        \n",
    "class 자전차(차):\n",
    "    def __init__(self, 바퀴, 가격, 구동계):\n",
    "        차.__init__(self, 바퀴, 가격)\n",
    "        self.구동계 = 구동계\n",
    "    def 정보(self):\n",
    "        차.정보(self)\n",
    "        print('구동계', self.구동계)\n",
    "\n",
    "bicycle = 자전차(2, 100, \"시마노\")\n",
    "bicycle.정보()"
   ]
  },
  {
   "cell_type": "markdown",
   "metadata": {},
   "source": [
    "### 288 메서드 오버라이딩\n",
    "##### 다음 코드의 실행 결과를 예상해보세요."
   ]
  },
  {
   "cell_type": "code",
   "execution_count": 101,
   "metadata": {},
   "outputs": [
    {
     "name": "stdout",
     "output_type": "stream",
     "text": [
      "자식호출\n"
     ]
    }
   ],
   "source": [
    "class 부모:\n",
    "    def 호출(self):\n",
    "        print(\"부모호출\")\n",
    "\n",
    "class 자식(부모):\n",
    "    def 호출(self):\n",
    "        print(\"자식호출\")\n",
    "나 = 자식()\n",
    "나.호출()\n",
    "\n",
    "# 자식호출\n",
    "# 클래스 상속의 경우 자식 클래스, 호출 메서드에 부모.호출(self) 코드가 들어가야 함."
   ]
  },
  {
   "cell_type": "markdown",
   "metadata": {},
   "source": [
    "### 289 생성자\n",
    "##### 다음 코드의 실행 결과를 예상해보세요."
   ]
  },
  {
   "cell_type": "code",
   "execution_count": 102,
   "metadata": {},
   "outputs": [
    {
     "name": "stdout",
     "output_type": "stream",
     "text": [
      "자식생성\n"
     ]
    }
   ],
   "source": [
    "class 부모:\n",
    "    def __init__(self):\n",
    "        print(\"부모생성\")\n",
    "\n",
    "class 자식(부모):\n",
    "    def __init__(self):\n",
    "        print(\"자식생성\")\n",
    "나 = 자식()\n",
    "\n",
    "# 자식생성\n",
    "# 클래스 상속의 경우 자식 클래스, 호출 메서드에 부모.__init__(self) 코드가 들어가야 함."
   ]
  },
  {
   "cell_type": "markdown",
   "metadata": {},
   "source": [
    "### 290 부모클래스 생성자 호출\n",
    "##### 다음 코드의 실행 결과를 예상해보세요."
   ]
  },
  {
   "cell_type": "code",
   "execution_count": 104,
   "metadata": {},
   "outputs": [
    {
     "name": "stdout",
     "output_type": "stream",
     "text": [
      "자식생성\n",
      "부모생성\n"
     ]
    }
   ],
   "source": [
    "class 부모:\n",
    "    def __init__(self):\n",
    "        print(\"부모생성\")\n",
    "\n",
    "class 자식(부모):\n",
    "    def __init__(self):\n",
    "        print(\"자식생성\")\n",
    "        super().__init__()\n",
    "\n",
    "나 = 자식()\n",
    "\n",
    "# 자식생성\n",
    "# 부모생성"
   ]
  }
 ],
 "metadata": {
  "kernelspec": {
   "display_name": "Python 3",
   "language": "python",
   "name": "python3"
  },
  "language_info": {
   "codemirror_mode": {
    "name": "ipython",
    "version": 3
   },
   "file_extension": ".py",
   "mimetype": "text/x-python",
   "name": "python",
   "nbconvert_exporter": "python",
   "pygments_lexer": "ipython3",
   "version": "3.8.5"
  }
 },
 "nbformat": 4,
 "nbformat_minor": 4
}
